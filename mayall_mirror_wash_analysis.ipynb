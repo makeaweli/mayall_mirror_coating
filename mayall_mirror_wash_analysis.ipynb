{
 "cells": [
  {
   "cell_type": "markdown",
   "id": "df2ac0c4-8a10-4940-8fc0-a85c77e3eb7b",
   "metadata": {},
   "source": [
    "# Mayall Primary Mirror Wash Data"
   ]
  },
  {
   "cell_type": "markdown",
   "id": "c6cb6d3d-c252-43ae-a616-9e0943fa15d9",
   "metadata": {},
   "source": [
    "## Setup"
   ]
  },
  {
   "cell_type": "code",
   "execution_count": 1,
   "id": "3f91d9b0-f9a2-43b1-b124-f519e31b3103",
   "metadata": {
    "tags": []
   },
   "outputs": [],
   "source": [
    "%matplotlib inline\n",
    "import numpy as np\n",
    "import pandas as pd\n",
    "import datetime\n",
    "import matplotlib.pyplot as plt\n",
    "import gspread as gs\n",
    "import matplotlib.cm as cm\n",
    "from matplotlib.gridspec import GridSpec\n",
    "import ipywidgets as widgets\n",
    "from IPython.display import display, clear_output\n",
    "from sklearn.linear_model import LinearRegression"
   ]
  },
  {
   "cell_type": "code",
   "execution_count": 2,
   "id": "f919fd34-0668-4508-8024-fdb320a2a662",
   "metadata": {
    "tags": []
   },
   "outputs": [
    {
     "name": "stderr",
     "output_type": "stream",
     "text": [
      "/var/folders/my/l9_wdk6j0g186w61vqtc_cw40000gp/T/ipykernel_94596/3991778654.py:4: MatplotlibDeprecationWarning: The get_cmap function was deprecated in Matplotlib 3.7 and will be removed two minor releases later. Use ``matplotlib.colormaps[name]`` or ``matplotlib.colormaps.get_cmap(obj)`` instead.\n",
      "  colors = mpl.colormaps['tab20']\n"
     ]
    }
   ],
   "source": [
    "import matplotlib as mpl\n",
    "\n",
    "mpl.rcParams['font.family'] = 'sans-serif'\n",
    "colors = mpl.colormaps['tab20']"
   ]
  },
  {
   "cell_type": "code",
   "execution_count": 3,
   "id": "3da48088-676c-465e-9170-85ac03fe954a",
   "metadata": {},
   "outputs": [],
   "source": [
    "mayall_data = pd.read_csv('https://docs.google.com/spreadsheets/d/e/2PACX-1vSWF3pE1qBNcatq1Cm-H2z6mAGBPA-EbyUhujoOHXUU9-BfGYkmzP0YaFslu0bm2efn6AB9fNwUEUHj/pub?gid=0&single=true&output=csv')\n",
    "wavelengths = mayall_data.columns[9:]\n",
    "mayall_data.index = pd.to_datetime(mayall_data['Date'])\n",
    "mayall_data.drop('Date',axis=1, inplace=True)"
   ]
  },
  {
   "cell_type": "code",
   "execution_count": 4,
   "id": "5bbcb81e-63dd-4647-bfe9-76b9e415c5b6",
   "metadata": {
    "tags": []
   },
   "outputs": [],
   "source": [
    "HCL_STAND_SCI=np.array([ 86.79,  86.88,  86.94,  86.97,  87.  ,  86.99,  86.97,  86.94,\n",
    "                     86.89,  86.85,  86.8 ,  86.73,  86.65,  86.57,  86.47,  86.36,\n",
    "                     86.24,  86.12,  85.98,  85.83,  85.68,  85.51,  85.33,  85.14,\n",
    "                     84.95,  84.75,  84.54,  84.33,  84.1 ,  83.86,  83.61])\n",
    "\n",
    "standard_sci = pd.DataFrame(HCL_STAND_SCI).T\n",
    "standard_sci.columns = wavelengths"
   ]
  },
  {
   "cell_type": "code",
   "execution_count": 5,
   "id": "38917a4e-0182-4851-a8a2-14dcdebe93ff",
   "metadata": {},
   "outputs": [],
   "source": [
    "wash_types = list(np.unique(mayall_data['Wash Type']))\n",
    "wash_types.append('All')\n",
    "coatings = list(np.unique(mayall_data['Coating Date']))\n",
    "coatings.append('All')"
   ]
  },
  {
   "cell_type": "code",
   "execution_count": 6,
   "id": "fe6a1fd8-123f-49a6-9b77-b75f20ec62f3",
   "metadata": {},
   "outputs": [],
   "source": [
    "def get_dates(wash_type):\n",
    "    if wash_type == 'All':\n",
    "        dates = np.unique(mayall_data.index.strftime('%Y-%m-%d'))\n",
    "    else:\n",
    "        mask = mayall_data['Wash Type'] == wash_type\n",
    "        dates = np.unique(mayall_data[mask].index.strftime('%Y-%m-%d'))\n",
    "    return dates[::-1]\n",
    "def get_dates2(coating):\n",
    "    if coating == 'All':\n",
    "        dates = np.unique(mayall_data.index.strftime('%Y-%m-%d'))\n",
    "    else:\n",
    "        mask = mayall_data['Coating Date'] == coating\n",
    "        dates = np.unique(mayall_data[mask].index.strftime('%Y-%m-%d'))\n",
    "    return dates[::-1]"
   ]
  },
  {
   "cell_type": "code",
   "execution_count": 7,
   "id": "cdee676b-232d-49ad-8d8b-f5ce3b193f86",
   "metadata": {
    "tags": []
   },
   "outputs": [],
   "source": [
    "# Daily Plot Widgets\n",
    "wash_button = widgets.RadioButtons(\n",
    "    options=wash_types,\n",
    "    value='All',\n",
    "    description='Wash Type:',\n",
    "    disabled=False\n",
    ")\n",
    "\n",
    "date_selector = widgets.Dropdown(\n",
    "    options=get_dates('All'),\n",
    "    description='Date:',\n",
    "    disabled=False,\n",
    ")\n",
    "\n",
    "daily_plot_button = widgets.Button(\n",
    "    description='Daily Plot',\n",
    "    disabled=False,\n",
    "    button_style='', \n",
    "    tooltip='Generate daily plot',\n",
    "    icon='check'\n",
    ")\n",
    "\n",
    "output = widgets.Output()\n",
    "\n",
    "# Callback for button click\n",
    "def on_daily_plot_click(b):\n",
    "    with output:\n",
    "        clear_output(wait=True)\n",
    "        daily_plot(date_selector.value)\n",
    "        plt.show()\n",
    "\n",
    "daily_plot_button.on_click(on_daily_plot_click)\n",
    "\n",
    "# Callback for wash type change\n",
    "def on_wash_type_change(change):\n",
    "    if change['name'] == 'value':\n",
    "        # Update the dates dropdown options based on selected wash type\n",
    "        date_selector.options = get_dates(change['new'])\n",
    "\n",
    "wash_button.observe(on_wash_type_change, names='value')"
   ]
  },
  {
   "cell_type": "code",
   "execution_count": 22,
   "id": "62181373-a281-4dff-851f-14bd79bbfdb7",
   "metadata": {},
   "outputs": [],
   "source": [
    "# Widgets for Change Plot\n",
    "coatings_selection = widgets.RadioButtons(\n",
    "    options=coatings,\n",
    "    value='All',\n",
    "    description='Coatings:',\n",
    "    disabled=False\n",
    ")\n",
    "\n",
    "start_date = widgets.Dropdown(\n",
    "    options=get_dates('All'),\n",
    "    value=get_dates('All')[-1],  # Usually latest date\n",
    "    description='Start Date:',\n",
    "    disabled=False,\n",
    ")\n",
    "\n",
    "end_date = widgets.Dropdown(\n",
    "    options=get_dates('All'),\n",
    "    value=get_dates('All')[0],  # Usually earliest date\n",
    "    description='End Date:',\n",
    "    disabled=False,\n",
    ")\n",
    "\n",
    "change_plot_button = widgets.Button(\n",
    "    description='Change Plot',\n",
    "    disabled=False,\n",
    "    button_style='',  # e.g. 'success', 'info', 'warning', 'danger'\n",
    "    tooltip='Generate plot with selected dates',\n",
    "    icon='check'\n",
    ")\n",
    "\n",
    "linreg_selection = widgets.Checkbox(\n",
    "    value=False,\n",
    "    description='Lin. Regression',\n",
    "    disabled=False,\n",
    "    indent=False\n",
    ")\n",
    "\n",
    "outliers_list = widgets.Text(\n",
    "    value='2024-10-21',\n",
    "    placeholder='YYYY-MM-DD',\n",
    "    description='Outliers:',\n",
    "    disabled=False\n",
    ")\n",
    "\n",
    "output2 = widgets.Output()\n",
    "\n",
    "# Button click handler\n",
    "def on_change_plot_click(b):\n",
    "    with output2:\n",
    "        clear_output(wait=True)\n",
    "        change_plot(start_date.value, end_date.value)\n",
    "        plt.show()\n",
    "\n",
    "change_plot_button.on_click(on_change_plot_click)\n",
    "\n",
    "def on_coatings_selection_change(change):\n",
    "    if change['name'] == 'value':  # Only respond to value changes\n",
    "        dates = get_dates2(change['new'])\n",
    "        print(dates)\n",
    "        start_date.options = dates\n",
    "        start_date.value = dates[-1]\n",
    "        end_date.options = dates\n",
    "        end_date.value=dates[0]\n",
    "\n",
    "coatings_selection.observe(on_coatings_selection_change, names='value')\n"
   ]
  },
  {
   "cell_type": "markdown",
   "id": "9ac5872c-b45b-4d77-b67a-a91f586d29e8",
   "metadata": {
    "jp-MarkdownHeadingCollapsed": true
   },
   "source": [
    "## Code"
   ]
  },
  {
   "cell_type": "code",
   "execution_count": 9,
   "id": "47050b74-2cac-4f61-86bb-4298e6b13b4e",
   "metadata": {
    "tags": []
   },
   "outputs": [],
   "source": [
    "def reduce_data(df_, sc='SCI', wash='AW'):\n",
    "    \"\"\"\n",
    "    Reduce spectral data by normalizing measurement data with calibration standards.\n",
    "\n",
    "    Parameters:\n",
    "    - df_: pandas DataFrame containing spectral data\n",
    "    - sc: string, either 'SCI' or 'SCE' specifying the measurement type\n",
    "    - wash: string, specifying wash type, e.g. 'AW' or 'BW'\n",
    "\n",
    "    Returns:\n",
    "    - reduced_data: normalized measurement means (pandas Series/DataFrame)\n",
    "    - measurement_sem: measurement standard error means (pandas Series/DataFrame)\n",
    "    \"\"\"\n",
    "\n",
    "    # Group by relevant categories and calculate aggregations\n",
    "    grouped = df_.groupby(['Type', 'BW/AW', 'Tag'])[wavelengths].agg(['mean', 'sem', 'std', 'min', 'max'])\n",
    "\n",
    "    # Extract calibration group means for scaling\n",
    "    cal_group = grouped.loc[('calibration', wash, 'SCI')].xs('mean', level=1)\n",
    "\n",
    "    # Extract measurement group data (means and sems)\n",
    "    meas_group = grouped.loc[('measurement', wash, sc)]\n",
    "    meas_mean = meas_group.xs('mean', level=1)\n",
    "    meas_sem = meas_group.xs('sem', level=1)\n",
    "\n",
    "    # Calculate scale factor by normalizing calibration group against standard\n",
    "    scale = cal_group / standard_sci.loc[0]\n",
    "\n",
    "    # Normalize measurement means by scale factor\n",
    "    reduced_data = meas_mean / scale\n",
    "\n",
    "    return reduced_data, meas_sem"
   ]
  },
  {
   "cell_type": "code",
   "execution_count": 15,
   "id": "a433c495-2576-4f62-a307-e6dc84862efb",
   "metadata": {},
   "outputs": [],
   "source": [
    "def daily_plot(date):\n",
    "    \"\"\"\n",
    "    Plot Before and After wash data for a given date.\n",
    "    Also shows the ratio between them to indicate improvement.\n",
    "\n",
    "    Parameters:\n",
    "    - date: the date to filter mayall_data on\n",
    "    \"\"\"\n",
    "\n",
    "    sc_map = {'Reflectance': 'SCI', 'Scatter': 'SCE'}\n",
    "    colors = {'BW': 'blue', 'AW': 'orange'}\n",
    "\n",
    "    # Filter data for the given date\n",
    "    d_ = mayall_data.loc[mayall_data.index == date]\n",
    "\n",
    "    if d_.empty:\n",
    "        print(f\"No data available for date {date}\")\n",
    "        return\n",
    "\n",
    "    wash_type = d_['Wash Type'].iloc[0]\n",
    "\n",
    "    for label, sc in sc_map.items():\n",
    "        fig = plt.figure(figsize=(10, 4))\n",
    "        gs = GridSpec(2, 1, height_ratios=[1, 3], hspace=0.0)\n",
    "\n",
    "        ax_ratio = fig.add_subplot(gs[0])\n",
    "        ax_values = fig.add_subplot(gs[1], sharex=ax_ratio)\n",
    "\n",
    "        # Initialize flags\n",
    "        has_bw = False\n",
    "        has_aw = False\n",
    "\n",
    "        # Before Wash\n",
    "        try:\n",
    "            reduced_bw, bw_err = reduce_data(d_, sc, 'BW')\n",
    "            reduced_bw.plot(ax=ax_values, yerr=bw_err, alpha=0.6, label='BW', color=colors['BW'])\n",
    "            has_bw = True\n",
    "        except Exception as e:\n",
    "            print(f\"No data for Before Wash ({label}): {e}\")\n",
    "\n",
    "        # After Wash\n",
    "        try:\n",
    "            reduced_aw, aw_err = reduce_data(d_, sc, 'AW')\n",
    "            reduced_aw.plot(ax=ax_values, yerr=aw_err, alpha=0.6, label='AW', color=colors['AW'])\n",
    "            has_aw = True\n",
    "        except Exception as e:\n",
    "            print(f\"No data for After Wash ({label}): {e}\")\n",
    "\n",
    "        # Plot ratio if both are available\n",
    "        if has_bw and has_aw:\n",
    "            ratio = reduced_aw / reduced_bw\n",
    "            ratio.plot(ax=ax_ratio, label='AW/BW', color='k', alpha=0.5)\n",
    "\n",
    "        # Customize ratio plot\n",
    "        ax_ratio.set_title(f'Mean {label} ({sc}) Curves for {date}, {wash_type} wash')\n",
    "        ax_ratio.set_ylabel('Wash % Increase')\n",
    "        ax_ratio.legend()\n",
    "        ax_ratio.tick_params(axis='x', labelbottom=False)  # Hide x tick labels on top plot\n",
    "\n",
    "        # Customize main plot\n",
    "        ax_values.set_xlabel('Wavelength (nm)')\n",
    "        ax_values.set_ylabel('Mean Value')\n",
    "        ax_values.legend()\n",
    "\n",
    "        plt.rc('font', family='Arial')\n",
    "        plt.tight_layout()\n",
    "        plt.show()\n"
   ]
  },
  {
   "cell_type": "code",
   "execution_count": 25,
   "id": "67a552b2-a1bf-47b8-926f-5bad4b027e1d",
   "metadata": {},
   "outputs": [],
   "source": [
    "def change_plot(start_date, end_date):\n",
    "    \"\"\"\n",
    "    Plot mean values with error bars over a date range, optionally with linear regression fits.\n",
    "    Excludes outliers specified in the outliers_list widget.\n",
    "\n",
    "    Parameters:\n",
    "    - start_date: start of date range (string or datetime-like)\n",
    "    - end_date: end of date range (string or datetime-like)\n",
    "    \"\"\"\n",
    "\n",
    "    # Filter data within date range\n",
    "    this_df = mayall_data.loc[start_date:end_date]\n",
    "    dates = pd.Series(this_df.index.unique())\n",
    "\n",
    "    # Process outliers from widget, filter them out from dates\n",
    "    outliers = [o.strip() for o in outliers_list.value.split(',') if o.strip()]\n",
    "    if outliers:\n",
    "        mask = ~dates.astype(str).apply(lambda d: any(o in d for o in outliers))\n",
    "        dates = dates[mask]\n",
    "\n",
    "    results = []\n",
    "    for date in dates:\n",
    "        d_ = this_df.loc[this_df.index == date]\n",
    "        try:\n",
    "            reduced, err = reduce_data(d_)\n",
    "        except Exception:\n",
    "            reduced, err = reduce_data(d_, sc='SCI', wash='BW')\n",
    "            print(f'Only data for BW on {date}')\n",
    "        results.append((date, (reduced, err)))\n",
    "\n",
    "    # Extract x (dates), y means, and y errors\n",
    "    x = pd.to_datetime([r[0] for r in results])\n",
    "    y_means = [r[1][0] for r in results]\n",
    "    y_errs = [r[1][1] for r in results]\n",
    "\n",
    "    # Calculate means for B, G, R segments and their errors\n",
    "    def mean_segment(data_list, start, end):\n",
    "        if end is None:\n",
    "            return [np.mean(d.iloc[start:]) for d in data_list]\n",
    "        else:\n",
    "            return [np.mean(d.iloc[start:end]) for d in data_list]\n",
    "\n",
    "    B, G, R = (mean_segment(y_means, 0, 10),\n",
    "               mean_segment(y_means, 10, 20),\n",
    "               mean_segment(y_means, 20, None))\n",
    "\n",
    "    B_err, G_err, R_err = (mean_segment(y_errs, 0, 10),\n",
    "                          mean_segment(y_errs, 10, 20),\n",
    "                          mean_segment(y_errs, 20, None))\n",
    "\n",
    "    # Plotting setup\n",
    "    fig, ax = plt.subplots(figsize=(10, 4))\n",
    "    colors = {'B': 'blue', 'G': 'green', 'R': 'red'}\n",
    "    data_series = {'B': (B, B_err), 'G': (G, G_err), 'R': (R, R_err)}\n",
    "\n",
    "    for label, (means, errs) in data_series.items():\n",
    "        ax.errorbar(x, means, yerr=errs, fmt='o', mfc=colors[label], mec='black', ecolor='black')\n",
    "        if linreg_selection.value:\n",
    "            date_range, y_fit, r2 = lin_reg(x, (means, errs))\n",
    "            ax.plot(date_range, y_fit, color=colors[label], label=f'{label} fit (R²={r2:.2f})')\n",
    "\n",
    "    # Mark coating dates on plot\n",
    "    coating_dates = pd.to_datetime(coatings[:4], format=\"%m/%d/%Y\")\n",
    "    coating_mask = (coating_dates >= pd.to_datetime(start_date)) & (coating_dates <= pd.to_datetime(end_date))\n",
    "    for coating in coating_dates[coating_mask]:\n",
    "        ax.axvline(coating, color='k', ls='--')\n",
    "\n",
    "    if linreg_selection.value:\n",
    "        ax.legend()\n",
    "\n",
    "    plt.tight_layout()\n",
    "    plt.show()"
   ]
  },
  {
   "cell_type": "code",
   "execution_count": 17,
   "id": "e74cb01c-bb04-4a4d-93f5-7d75a9b2dc34",
   "metadata": {},
   "outputs": [],
   "source": [
    "def lin_reg(x, y_with_err):\n",
    "    \"\"\"\n",
    "    Perform weighted linear regression on dates vs values with errors.\n",
    "\n",
    "    Parameters:\n",
    "    - x: pd.Series or list of datetime-like objects (dates)\n",
    "    - y_with_err: tuple (y_values, y_errors), each list-like of numeric values\n",
    "\n",
    "    Returns:\n",
    "    - date_range: pd.DatetimeIndex for plotting regression line\n",
    "    - y_pred: predicted y-values from regression model\n",
    "    - r2_weighted: weighted coefficient of determination (R²)\n",
    "    \"\"\"\n",
    "\n",
    "    y, y_err = y_with_err\n",
    "    y = np.array(y, dtype=float)\n",
    "    y_err = np.array(y_err, dtype=float)\n",
    "\n",
    "    # Compute weights as inverse variance\n",
    "    weights = 1 / (y_err ** 2)\n",
    "\n",
    "    # Prepare x for regression as ordinal numbers\n",
    "    xx = pd.Series(x).map(pd.Timestamp.toordinal).values.reshape(-1, 1)\n",
    "\n",
    "    # Fit linear regression with sample weights\n",
    "    model = LinearRegression()\n",
    "    model.fit(xx, y, sample_weight=weights)\n",
    "\n",
    "    # Create date range for smooth regression line\n",
    "    date_range = pd.date_range(start=min(x), end=max(x), periods=len(y))\n",
    "    x_range = pd.Series(date_range).map(pd.Timestamp.toordinal).values.reshape(-1, 1)\n",
    "\n",
    "    y_pred = model.predict(x_range)\n",
    "\n",
    "    # Manually compute weighted R²\n",
    "    ss_res = np.sum(weights * (y - model.predict(xx)) ** 2)\n",
    "    ss_tot = np.sum(weights * (y - np.average(y, weights=weights)) ** 2)\n",
    "    r2_weighted = 1 - ss_res / ss_tot if ss_tot != 0 else float('nan')\n",
    "\n",
    "    return date_range, y_pred, r2_weighted\n"
   ]
  },
  {
   "cell_type": "markdown",
   "id": "e1a40f20-65ad-47fe-af9d-03ffc33df15e",
   "metadata": {
    "tags": []
   },
   "source": [
    "## Plots"
   ]
  },
  {
   "cell_type": "markdown",
   "id": "fa79c074-9608-4b03-a2da-c1f856d9f7b7",
   "metadata": {},
   "source": [
    "### Daily Plot"
   ]
  },
  {
   "cell_type": "code",
   "execution_count": 18,
   "id": "981076db-f26d-4942-82dc-b591e75b2057",
   "metadata": {
    "tags": []
   },
   "outputs": [
    {
     "data": {
      "application/vnd.jupyter.widget-view+json": {
       "model_id": "bf546d2311ef48f69d65139793e9e29c",
       "version_major": 2,
       "version_minor": 0
      },
      "text/plain": [
       "RadioButtons(description='Wash Type:', index=5, options=('CO2', 'No Wash', 'coating', 'contact', 'contactless'…"
      ]
     },
     "metadata": {},
     "output_type": "display_data"
    },
    {
     "data": {
      "application/vnd.jupyter.widget-view+json": {
       "model_id": "4c64f82d64c74113bbb2f41aedd503c5",
       "version_major": 2,
       "version_minor": 0
      },
      "text/plain": [
       "Dropdown(description='Date:', index=13, options=('2025-06-30', '2025-06-23', '2025-06-20', '2025-06-16', '2025…"
      ]
     },
     "metadata": {},
     "output_type": "display_data"
    },
    {
     "data": {
      "application/vnd.jupyter.widget-view+json": {
       "model_id": "61b15aa7fc064f5da5383bcac8630af6",
       "version_major": 2,
       "version_minor": 0
      },
      "text/plain": [
       "Button(description='Daily Plot', icon='check', style=ButtonStyle(), tooltip='Generate daily plot')"
      ]
     },
     "metadata": {},
     "output_type": "display_data"
    },
    {
     "data": {
      "application/vnd.jupyter.widget-view+json": {
       "model_id": "56100878f7da44429dc715cc9132aafd",
       "version_major": 2,
       "version_minor": 0
      },
      "text/plain": [
       "Output(outputs=({'output_type': 'display_data', 'data': {'text/plain': '<Figure size 1000x400 with 2 Axes>', '…"
      ]
     },
     "metadata": {},
     "output_type": "display_data"
    }
   ],
   "source": [
    "display(wash_button, date_selector, daily_plot_button, output)"
   ]
  },
  {
   "cell_type": "markdown",
   "id": "3e1f56ec-989d-4b37-8b5a-8f664124e985",
   "metadata": {
    "tags": []
   },
   "source": [
    "### Change over time"
   ]
  },
  {
   "cell_type": "code",
   "execution_count": 26,
   "id": "151e8e5a-3332-4320-abec-014f6989a17c",
   "metadata": {},
   "outputs": [
    {
     "data": {
      "application/vnd.jupyter.widget-view+json": {
       "model_id": "e02164f8d93d4e48b7d1976036f21c41",
       "version_major": 2,
       "version_minor": 0
      },
      "text/plain": [
       "RadioButtons(description='Coatings:', index=2, options=('12/12/2017', '7/15/2014', '7/20/2023', '8/1/2008', 'A…"
      ]
     },
     "metadata": {},
     "output_type": "display_data"
    },
    {
     "data": {
      "application/vnd.jupyter.widget-view+json": {
       "model_id": "cdb77ec771514b5ea54ca6691978ab78",
       "version_major": 2,
       "version_minor": 0
      },
      "text/plain": [
       "Dropdown(description='Start Date:', index=39, options=('2025-06-30', '2025-06-23', '2025-06-20', '2025-06-16',…"
      ]
     },
     "metadata": {},
     "output_type": "display_data"
    },
    {
     "data": {
      "application/vnd.jupyter.widget-view+json": {
       "model_id": "a55fafbbffe8461e8931c852a2c7e878",
       "version_major": 2,
       "version_minor": 0
      },
      "text/plain": [
       "Dropdown(description='End Date:', options=('2025-06-30', '2025-06-23', '2025-06-20', '2025-06-16', '2025-06-09…"
      ]
     },
     "metadata": {},
     "output_type": "display_data"
    },
    {
     "data": {
      "application/vnd.jupyter.widget-view+json": {
       "model_id": "721588f2f95c45c29385517b46498270",
       "version_major": 2,
       "version_minor": 0
      },
      "text/plain": [
       "Checkbox(value=True, description='Lin. Regression', indent=False)"
      ]
     },
     "metadata": {},
     "output_type": "display_data"
    },
    {
     "data": {
      "application/vnd.jupyter.widget-view+json": {
       "model_id": "e2ada12aee374eedb0891519380ad1c8",
       "version_major": 2,
       "version_minor": 0
      },
      "text/plain": [
       "Text(value='2024-10-21', description='Outliers:', placeholder='YYYY-MM-DD')"
      ]
     },
     "metadata": {},
     "output_type": "display_data"
    },
    {
     "data": {
      "application/vnd.jupyter.widget-view+json": {
       "model_id": "9581c13320a541849aed8b23e1f8d509",
       "version_major": 2,
       "version_minor": 0
      },
      "text/plain": [
       "Button(description='Change Plot', icon='check', style=ButtonStyle(), tooltip='Generate plot with selected date…"
      ]
     },
     "metadata": {},
     "output_type": "display_data"
    },
    {
     "data": {
      "application/vnd.jupyter.widget-view+json": {
       "model_id": "e7a9e3aa7ef24f4f8784b4259a119b79",
       "version_major": 2,
       "version_minor": 0
      },
      "text/plain": [
       "Output(outputs=({'name': 'stdout', 'text': 'Only data for BW on 2025-03-28 00:00:00\\nOnly data for BW on 2025-…"
      ]
     },
     "metadata": {},
     "output_type": "display_data"
    }
   ],
   "source": [
    "display(coatings_selection, start_date, end_date, linreg_selection, outliers_list, change_plot_button, output2)"
   ]
  },
  {
   "cell_type": "code",
   "execution_count": null,
   "id": "79318b5c-399a-4bb9-9294-ec94ed82e69d",
   "metadata": {},
   "outputs": [],
   "source": [
    "# Download a CSV\n",
    "# For regression plot: write out coefficients\n",
    "# Determine how long it would take to get to threshold"
   ]
  }
 ],
 "metadata": {
  "kernelspec": {
   "display_name": "Python 3 (ipykernel)",
   "language": "python",
   "name": "python3"
  },
  "language_info": {
   "codemirror_mode": {
    "name": "ipython",
    "version": 3
   },
   "file_extension": ".py",
   "mimetype": "text/x-python",
   "name": "python",
   "nbconvert_exporter": "python",
   "pygments_lexer": "ipython3",
   "version": "3.11.3"
  }
 },
 "nbformat": 4,
 "nbformat_minor": 5
}
